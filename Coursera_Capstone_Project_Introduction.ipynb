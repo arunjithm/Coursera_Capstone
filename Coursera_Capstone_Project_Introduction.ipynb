{
 "cells": [
  {
   "cell_type": "markdown",
   "metadata": {
    "collapsed": true
   },
   "source": [
    "# Analyzing the best business destination - Dubai or Kuala Lumpur"
   ]
  },
  {
   "cell_type": "markdown",
   "metadata": {},
   "source": [
    "## Introduction"
   ]
  },
  {
   "cell_type": "markdown",
   "metadata": {},
   "source": [
    "#### AmerCave Group is a business entity who has spread its wings across the US. It has a chain of shopping malls and restaurants in almost all major cities of different states in America. As part of expanding business, they are  strategically stepping outside US. AmerCave have chosen East Asia and Middle East for deploying their first shopping mall and an American restaurant.  The reason for selecting both are given below.\n",
    "#### a.\tEast Asia and Middle East are fast growing economies, both having outstanding and competitive regional hubs for starting a business. Middle East, especially Dubai, UAE is an extremely attractive business destination and a great tourism spot. Lot of investments pouring in for the oil sector makes Dubai an advantage for investors. Apart from that, it is the gateway for Eastern markets as it acts as a hub for imports and exports. The city attracts a lot of expat investors as well.\n",
    "#### b.\tKuala Lumpur, Malaysia in the East Asian region have an increasing consumer demand from various nearby countries like India, China etc. It is set to be the center of digital economy and have a multitude of business forms. A diversified workforce is another advantage for opening a business in Malaysia. Kuala Lumpur offers a competitive market as well.\n"
   ]
  },
  {
   "cell_type": "markdown",
   "metadata": {},
   "source": [
    "## Business Problem"
   ]
  },
  {
   "cell_type": "markdown",
   "metadata": {},
   "source": [
    "#### AmerCave Group have a good strategy, but they need a clarity in the following.\n",
    "#### a.\tWhere to start restaurant business? – Dubai or Kuala Lumpur\n",
    "#### b.\tWhere to start the shopping mall? – Dubai or Kuala Lumpur\n",
    "#### AmerCave don’t want their business to be opened in some suburb area anywhere. The location of the new business should be within city limits\n"
   ]
  },
  {
   "cell_type": "markdown",
   "metadata": {},
   "source": [
    "## Problems to be resolved"
   ]
  },
  {
   "cell_type": "markdown",
   "metadata": {},
   "source": [
    "#### Problems to be resolved\n",
    "#### 1.\tProvide a list of best locations in Dubai or in Kuala Lumpur for starting shopping mall\n",
    "#### 2.\tProvide a list of best locations in Dubai or in Kuala Lumpur for starting restaurant\n",
    "#### 3.\tTowards the end, it should be clear where to start shopping mall and where to start restaurant\n",
    "#### 4.\tThe location should be within 2 Km from vicinity of both cities\n"
   ]
  },
  {
   "cell_type": "markdown",
   "metadata": {},
   "source": [
    "## Interested Audience"
   ]
  },
  {
   "cell_type": "markdown",
   "metadata": {},
   "source": [
    "#### I believe the methodology and strategy for this project would cater to the needs of a business entity who is moving to either of two cities. The approach used can be used to explore more business opportunities and not confined to restaurants or shopping malls. "
   ]
  },
  {
   "cell_type": "markdown",
   "metadata": {},
   "source": [
    "## Data Source & Data Requirements"
   ]
  },
  {
   "cell_type": "markdown",
   "metadata": {},
   "source": [
    "### Data Section"
   ]
  },
  {
   "cell_type": "markdown",
   "metadata": {},
   "source": [
    "#### 1.\tDubai neighborhoods information which can be web scrapped from Wikipedia page -- https://en.wikipedia.org/wiki/List_of_communities_in_Dubai\n",
    "#### 2.\tKuala Lumpur neighborhood information which can be web scrapped from Wikipedia page -- https://en.wikipedia.org/wiki/Category:Suburbs_in_Kuala_Lumpur\n",
    "#### 3.\tGeodata of Dubai and Kuala Lumpur with top venue information to be collected from Foursquare\n"
   ]
  },
  {
   "cell_type": "markdown",
   "metadata": {},
   "source": [
    "### Data Requirements"
   ]
  },
  {
   "cell_type": "markdown",
   "metadata": {},
   "source": [
    "#### 1.\tKuala Lumpur and Dubai maps is to be created using Nominatim, Foursquare and Folium mapping\n",
    "#### 2.\tNeighborhood data for both Kuala Lumpur and Dubai have to clubbed with their geo data for mapping\n"
   ]
  },
  {
   "cell_type": "code",
   "execution_count": null,
   "metadata": {},
   "outputs": [],
   "source": []
  }
 ],
 "metadata": {
  "kernelspec": {
   "display_name": "Python 3.6",
   "language": "python",
   "name": "python3"
  },
  "language_info": {
   "codemirror_mode": {
    "name": "ipython",
    "version": 3
   },
   "file_extension": ".py",
   "mimetype": "text/x-python",
   "name": "python",
   "nbconvert_exporter": "python",
   "pygments_lexer": "ipython3",
   "version": "3.6.8"
  }
 },
 "nbformat": 4,
 "nbformat_minor": 1
}
